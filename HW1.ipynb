{
 "cells": [
  {
   "cell_type": "code",
   "execution_count": 42,
   "id": "e2b834ed-f07d-4396-8190-e52d606ed6d1",
   "metadata": {},
   "outputs": [],
   "source": [
    "class Test:\n",
    "    @staticmethod\n",
    "    def assert_equals(a, b):\n",
    "        assert a == b\n",
    "        print('Passed')"
   ]
  },
  {
   "cell_type": "markdown",
   "id": "bc36c25f",
   "metadata": {},
   "source": [
    "Problem https://edabit.com/challenge/8ym3dKrL3svkYr4h4 (0 point)"
   ]
  },
  {
   "cell_type": "code",
   "execution_count": 43,
   "id": "c8399b18",
   "metadata": {},
   "outputs": [],
   "source": [
    "def hello():\n",
    "    return \"hello edabit.com\""
   ]
  },
  {
   "cell_type": "code",
   "execution_count": 44,
   "id": "0b1c3a70",
   "metadata": {},
   "outputs": [
    {
     "name": "stdout",
     "output_type": "stream",
     "text": [
      "Passed\n"
     ]
    }
   ],
   "source": [
    "Test.assert_equals(hello(), \"hello edabit.com\")"
   ]
  },
  {
   "cell_type": "markdown",
   "id": "039d5b4c",
   "metadata": {},
   "source": [
    "Problem https://edabit.com/challenge/uBPCq2HEd8K5EGnyF (1 Points)"
   ]
  },
  {
   "cell_type": "code",
   "execution_count": 45,
   "id": "41a1c85a",
   "metadata": {},
   "outputs": [],
   "source": [
    "def add_up(n):\n",
    "\treturn n*(n+1)/2\n"
   ]
  },
  {
   "cell_type": "code",
   "execution_count": 46,
   "id": "af17846b",
   "metadata": {},
   "outputs": [
    {
     "name": "stdout",
     "output_type": "stream",
     "text": [
      "Passed\n",
      "Passed\n",
      "Passed\n",
      "Passed\n",
      "Passed\n",
      "Passed\n",
      "Passed\n",
      "Passed\n",
      "Passed\n",
      "Passed\n",
      "Passed\n",
      "Passed\n",
      "Passed\n",
      "Passed\n",
      "Passed\n"
     ]
    }
   ],
   "source": [
    "Test.assert_equals(add_up(4), 10)\n",
    "Test.assert_equals(add_up(13), 91)\n",
    "Test.assert_equals(add_up(600), 180300)\n",
    "Test.assert_equals(add_up(392), 77028)\n",
    "Test.assert_equals(add_up(53), 1431)\n",
    "Test.assert_equals(add_up(897), 402753)\n",
    "Test.assert_equals(add_up(23), 276)\n",
    "Test.assert_equals(add_up(1000), 500500)\n",
    "Test.assert_equals(add_up(738), 272691)\n",
    "Test.assert_equals(add_up(100), 5050)\n",
    "Test.assert_equals(add_up(925), 428275)\n",
    "Test.assert_equals(add_up(1), 1)\n",
    "Test.assert_equals(add_up(999), 499500)\n",
    "Test.assert_equals(add_up(175), 15400)\n",
    "Test.assert_equals(add_up(111), 6216)"
   ]
  },
  {
   "cell_type": "markdown",
   "id": "166ac24d",
   "metadata": {},
   "source": [
    "Problem https://edabit.com/challenge/GLbuMfTtDWwDv2F73 (2 Points)"
   ]
  },
  {
   "cell_type": "code",
   "execution_count": 47,
   "id": "26284eed",
   "metadata": {},
   "outputs": [],
   "source": [
    "def count_true(lst):\n",
    "\tj = 0\n",
    "\tfor i in lst:\n",
    "\t\tif i == True: j += 1\n",
    "\treturn j\n"
   ]
  },
  {
   "cell_type": "code",
   "execution_count": 48,
   "id": "1f2c9507",
   "metadata": {},
   "outputs": [
    {
     "name": "stdout",
     "output_type": "stream",
     "text": [
      "Passed\n",
      "Passed\n",
      "Passed\n",
      "Passed\n",
      "Passed\n",
      "Passed\n",
      "Passed\n",
      "Passed\n",
      "Passed\n",
      "Passed\n",
      "Passed\n",
      "Passed\n",
      "Passed\n"
     ]
    }
   ],
   "source": [
    "Test.assert_equals(count_true([True, False, False, True, False]), 2)\n",
    "Test.assert_equals(count_true([False, False, False, False]), 0)\n",
    "Test.assert_equals(count_true([]), 0)\n",
    "Test.assert_equals(count_true([False, False, True, True, False, False, False, True, True, True, True, False, True, True, False]), 8)\n",
    "Test.assert_equals(count_true([True, False, True, True, False, False, False, False, False]), 3)\n",
    "Test.assert_equals(count_true([False, True, True, False, True, True, False, True, False, True, False, True, False, True, False]), 8)\n",
    "Test.assert_equals(count_true([True, False, True, True, True, False, True, True, False, False]), 6)\n",
    "Test.assert_equals(count_true([False, False, False, False, True, False, True, False, True, False, False]), 3)\n",
    "Test.assert_equals(count_true([True, False, False, False, True, False, False, True, False, False, False]), 3)\n",
    "Test.assert_equals(count_true([True, True, False, True, False, False, False, False, True, False]), 4)\n",
    "Test.assert_equals(count_true([True, False, True, True, False, True, True, True, True, False, True, False, True, False]), 9)\n",
    "Test.assert_equals(count_true([True, False, True, True, True, True, False, True, True, False, True, False, False, False, False]), 8)\n",
    "Test.assert_equals(count_true([True, True, False, False, False, False, True, False, True, True, False, True]), 6)"
   ]
  },
  {
   "cell_type": "markdown",
   "id": "40f77178",
   "metadata": {},
   "source": [
    "Problem https://edabit.com/challenge/3A3mHS5B3NNZddQL2 (3 Points)"
   ]
  },
  {
   "cell_type": "code",
   "execution_count": 49,
   "id": "80db6b8a",
   "metadata": {},
   "outputs": [],
   "source": [
    "def interview(lst, tot):\n",
    "\ta = [5,5,10,10,15,15,20,20]\n",
    "\tif len(lst) == 8 and all(i<=j for i,j in zip(lst,a)) and tot<=120:\n",
    "\t\treturn \"qualified\"\n",
    "\treturn \"disqualified\""
   ]
  },
  {
   "cell_type": "code",
   "execution_count": 50,
   "id": "1c1431a1",
   "metadata": {},
   "outputs": [
    {
     "name": "stdout",
     "output_type": "stream",
     "text": [
      "Passed\n",
      "Passed\n",
      "Passed\n",
      "Passed\n",
      "Passed\n",
      "Passed\n",
      "Passed\n",
      "Passed\n",
      "Passed\n",
      "Passed\n"
     ]
    }
   ],
   "source": [
    "Test.assert_equals(interview([5, 5, 10, 10, 15, 15, 20, 20], 120), 'qualified')\n",
    "Test.assert_equals(interview([2, 3, 8, 6, 5, 12, 10, 18], 120), 'qualified')\n",
    "Test.assert_equals(interview([2, 3, 8, 6, 5, 12, 10, 18], 64), 'qualified')\n",
    "Test.assert_equals(interview([5, 5, 10, 10, 25, 15, 20, 20], 120), 'disqualified')\n",
    "Test.assert_equals(interview([5, 5, 10, 10, 15, 15, 20], 120), 'disqualified')\n",
    "Test.assert_equals(interview([5, 5, 10, 10, 15, 15, 20, 20], 130), 'disqualified')\n",
    "Test.assert_equals(interview([5, 5, 10, 10, 15, 20, 50], 160), 'disqualified')\n",
    "Test.assert_equals(interview([5, 5, 10, 10, 15, 15, 40], 120), 'disqualified')\n",
    "Test.assert_equals(interview([10, 10, 15, 15, 20, 20], 150), 'disqualified')\n",
    "Test.assert_equals(interview([5, 5, 10, 20, 15, 15, 20, 20], 140), 'disqualified')"
   ]
  },
  {
   "cell_type": "markdown",
   "id": "fba59be3",
   "metadata": {},
   "source": [
    "Problem https://edabit.com/challenge/MGALfBAXhXqqdFyqo (4 Points)"
   ]
  },
  {
   "cell_type": "code",
   "execution_count": 51,
   "id": "269fcb86",
   "metadata": {},
   "outputs": [],
   "source": [
    "def atbash(txt):\n",
    "\talf = \"abcdefghijklmnopqrstuvwxyzABCDEFGHIJKLMNOPQRSTUVWXYZ\"\n",
    "\tout = \"\"\n",
    "\tfor i in txt:\n",
    "\t\tif i in alf:\n",
    "\t\t\tout += alf[25-alf.index(i)]\n",
    "\t\telse:\n",
    "\t\t\tout += i\n",
    "\treturn out"
   ]
  },
  {
   "cell_type": "code",
   "execution_count": 52,
   "id": "feeb8fe4",
   "metadata": {},
   "outputs": [
    {
     "name": "stdout",
     "output_type": "stream",
     "text": [
      "Passed\n",
      "Passed\n",
      "Passed\n",
      "Passed\n"
     ]
    }
   ],
   "source": [
    "Test.assert_equals(atbash(\"abcdefghijklmnopqrstuvwxyz\"), \"zyxwvutsrqponmlkjihgfedcba\")\n",
    "Test.assert_equals(atbash(\"ABCDEFGHIJKLMNOPQRSTUVWXYZ\"), \"ZYXWVUTSRQPONMLKJIHGFEDCBA\")\n",
    "Test.assert_equals(atbash(\"The word 'atbash' derives from the the first and last 2 letters of the Hebrew alphabet.\"), \"Gsv dliw 'zgyzhs' wvirevh uiln gsv gsv urihg zmw ozhg 2 ovggvih lu gsv Svyivd zokszyvg.\")\n",
    "Test.assert_equals(atbash(\"Vmxibkgrlm zmw wvxibkgrlm ziv rwvmgrxzo uli gsv Zgyzhs xrksvi.\"),\"Encryption and decryption are identical for the Atbash cipher.\")"
   ]
  },
  {
   "cell_type": "markdown",
   "id": "4b118218",
   "metadata": {},
   "source": [
    "Problem https://edabit.com/challenge/RB6iWFrCd6rXWH3vi (5 Points)"
   ]
  },
  {
   "cell_type": "code",
   "execution_count": 53,
   "id": "a490ceee",
   "metadata": {},
   "outputs": [],
   "source": [
    "def longest_substring(d):\n",
    "\tj = \"\"\n",
    "\tm = \"\"\n",
    "\tfor i in d:\n",
    "\t\tif len(j)==0:\n",
    "\t\t\tj+=i\n",
    "\t\t\tcontinue\n",
    "\t\tif int(j[-1])%2 != int(i)%2:\n",
    "\t\t\tj+=i\n",
    "\t\telse:\n",
    "\t\t\tif len(j)>len(m):\n",
    "\t\t\t\tm = j\n",
    "\t\t\tj = \"\"\n",
    "\t\t\tj+=i\n",
    "\treturn m if len(m)>=len(j) else j"
   ]
  },
  {
   "cell_type": "code",
   "execution_count": 54,
   "id": "6d05ab90",
   "metadata": {},
   "outputs": [
    {
     "name": "stdout",
     "output_type": "stream",
     "text": [
      "Passed\n",
      "Passed\n",
      "Passed\n",
      "Passed\n",
      "Passed\n",
      "Passed\n",
      "Passed\n",
      "Passed\n",
      "Passed\n",
      "Passed\n",
      "Passed\n",
      "Passed\n",
      "Passed\n",
      "Passed\n",
      "Passed\n",
      "Passed\n",
      "Passed\n",
      "Passed\n",
      "Passed\n",
      "Passed\n",
      "Passed\n"
     ]
    }
   ],
   "source": [
    "Test.assert_equals(longest_substring(\"844929328912985315632725682153\"), \"56327256\")\n",
    "Test.assert_equals(longest_substring(\"769697538272129475593767931733\"), \"27212947\")\n",
    "Test.assert_equals(longest_substring(\"937948289456111258444958189244\"), \"894561\")\n",
    "Test.assert_equals(longest_substring(\"736237766362158694825822899262\"), \"636\")\n",
    "Test.assert_equals(longest_substring(\"369715978955362655737322836233\"), \"369\")\n",
    "Test.assert_equals(longest_substring(\"345724969853525333273796592356\"), \"496985\")\n",
    "Test.assert_equals(longest_substring(\"548915548581127334254139969136\"), \"8581\")\n",
    "Test.assert_equals(longest_substring(\"417922164857852157775176959188\"), \"78521\")\n",
    "Test.assert_equals(longest_substring(\"251346385699223913113161144327\"), \"638569\")\n",
    "Test.assert_equals(longest_substring(\"483563951878576456268539849244\"), \"18785\")\n",
    "Test.assert_equals(longest_substring(\"853667717122615664748443484823\"), \"474\")\n",
    "Test.assert_equals(longest_substring(\"398785511683322662883368457392\"), \"98785\")\n",
    "Test.assert_equals(longest_substring(\"368293545763611759335443678239\"), \"76361\")\n",
    "Test.assert_equals(longest_substring(\"775195358448494712934755311372\"), \"4947\")\n",
    "Test.assert_equals(longest_substring(\"646113733929969155976523363762\"), \"76523\")\n",
    "Test.assert_equals(longest_substring(\"575337321726324966478369152265\"), \"478369\")\n",
    "Test.assert_equals(longest_substring(\"754388489999793138912431545258\"), \"545258\")\n",
    "Test.assert_equals(longest_substring(\"198644286258141856918653955964\"), \"2581418569\")\n",
    "Test.assert_equals(longest_substring(\"643349187319779695864213682274\"), \"349\")\n",
    "Test.assert_equals(longest_substring(\"919331281193713636178478295857\"), \"36361\")\n",
    "Test.assert_equals(longest_substring(\"2846286484444288886666448822244466688822247\"), \"47\")"
   ]
  }
 ],
 "metadata": {
  "kernelspec": {
   "display_name": "Python 3 (ipykernel)",
   "language": "python",
   "name": "python3"
  },
  "language_info": {
   "codemirror_mode": {
    "name": "ipython",
    "version": 3
   },
   "file_extension": ".py",
   "mimetype": "text/x-python",
   "name": "python",
   "nbconvert_exporter": "python",
   "pygments_lexer": "ipython3",
   "version": "3.9.6"
  }
 },
 "nbformat": 4,
 "nbformat_minor": 5
}
