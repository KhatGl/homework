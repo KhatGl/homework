{
 "cells": [
  {
   "cell_type": "code",
   "execution_count": 166,
   "metadata": {},
   "outputs": [],
   "source": [
    "import numpy as np"
   ]
  },
  {
   "cell_type": "markdown",
   "metadata": {},
   "source": [
    "Номер 1"
   ]
  },
  {
   "cell_type": "code",
   "execution_count": 167,
   "metadata": {},
   "outputs": [
    {
     "name": "stdout",
     "output_type": "stream",
     "text": [
      "[[1. 1. 1. 1. 1. 1. 1. 1. 1. 1.]\n",
      " [1. 0. 0. 0. 0. 0. 0. 0. 0. 1.]\n",
      " [1. 0. 0. 0. 0. 0. 0. 0. 0. 1.]\n",
      " [1. 0. 0. 0. 0. 0. 0. 0. 0. 1.]\n",
      " [1. 0. 0. 0. 0. 0. 0. 0. 0. 1.]\n",
      " [1. 0. 0. 0. 0. 0. 0. 0. 0. 1.]\n",
      " [1. 0. 0. 0. 0. 0. 0. 0. 0. 1.]\n",
      " [1. 0. 0. 0. 0. 0. 0. 0. 0. 1.]\n",
      " [1. 0. 0. 0. 0. 0. 0. 0. 0. 1.]\n",
      " [1. 1. 1. 1. 1. 1. 1. 1. 1. 1.]]\n"
     ]
    }
   ],
   "source": [
    "print ( np.pad(np.zeros((8,8)), pad_width = 1, constant_values = 1) )"
   ]
  },
  {
   "cell_type": "markdown",
   "metadata": {},
   "source": [
    "Номер 2"
   ]
  },
  {
   "cell_type": "code",
   "execution_count": 168,
   "metadata": {},
   "outputs": [
    {
     "name": "stdout",
     "output_type": "stream",
     "text": [
      "[[0 1 0 1 0 1 0 1]\n",
      " [1 0 1 0 1 0 1 0]\n",
      " [0 1 0 1 0 1 0 1]\n",
      " [1 0 1 0 1 0 1 0]\n",
      " [0 1 0 1 0 1 0 1]\n",
      " [1 0 1 0 1 0 1 0]\n",
      " [0 1 0 1 0 1 0 1]\n",
      " [1 0 1 0 1 0 1 0]]\n",
      "\n",
      "\n",
      "[[1 0 1 0 1 0 1 0]\n",
      " [0 1 0 1 0 1 0 1]\n",
      " [1 0 1 0 1 0 1 0]\n",
      " [0 1 0 1 0 1 0 1]\n",
      " [1 0 1 0 1 0 1 0]\n",
      " [0 1 0 1 0 1 0 1]\n",
      " [1 0 1 0 1 0 1 0]\n",
      " [0 1 0 1 0 1 0 1]]\n"
     ]
    }
   ],
   "source": [
    "print ( np.indices((8,8)).sum(axis=0) % 2 )\n",
    "print ('\\n')\n",
    "print ( np.array(([1,0]*4+[0,1]*4)*4).reshape((8,-1)) )"
   ]
  },
  {
   "cell_type": "markdown",
   "metadata": {},
   "source": [
    "Номер 3"
   ]
  },
  {
   "cell_type": "code",
   "execution_count": 169,
   "metadata": {},
   "outputs": [
    {
     "name": "stdout",
     "output_type": "stream",
     "text": [
      "[[0 0 0 0 0]\n",
      " [1 0 0 0 0]\n",
      " [0 2 0 0 0]\n",
      " [0 0 3 0 0]\n",
      " [0 0 0 4 0]]\n"
     ]
    }
   ],
   "source": [
    "print ( np.fromfunction(lambda i, j: np.where((i*5 + j + 1) % 6 == 0, i % 5, 0), (5,5), dtype=int) )"
   ]
  },
  {
   "cell_type": "markdown",
   "metadata": {},
   "source": [
    "Номер 4"
   ]
  },
  {
   "cell_type": "code",
   "execution_count": 170,
   "metadata": {},
   "outputs": [
    {
     "name": "stdout",
     "output_type": "stream",
     "text": [
      "Массив:\n",
      " [[-0.02588348  0.09161475  0.28193715 -0.18685038 -0.16081804]\n",
      " [-0.34166486  0.01741622  0.34727555 -0.34665154  0.32362464]\n",
      " [-0.53213736 -0.01324176  0.25275483 -0.02292532  0.31554962]\n",
      " [ 0.45945905 -0.4794553  -0.02606529  0.01156459  0.03449695]\n",
      " [-0.05530842  0.50631279  0.05213573 -0.17239212 -0.33074798]] \n",
      "\n",
      "Проверка среднего по строкам:\n",
      "[0. 0. 0. 0. 0.]\n"
     ]
    }
   ],
   "source": [
    "array = (array := np.random.rand(5, 5)) - np.mean(array, axis=1, keepdims=True)\n",
    "\n",
    "print(\"Массив:\\n\", array, \"\\n\\nПроверка среднего по строкам:\")\n",
    "print (np.where(array.mean(axis=1)<1e-13, 0, array.mean(axis=1)))"
   ]
  },
  {
   "cell_type": "markdown",
   "metadata": {},
   "source": [
    "Номер 5"
   ]
  },
  {
   "cell_type": "code",
   "execution_count": 175,
   "metadata": {},
   "outputs": [
    {
     "name": "stdout",
     "output_type": "stream",
     "text": [
      "[0.28604718 0.83670234 0.47450831 0.56301801 0.45352011 0.32901161\n",
      " 0.51044902 0.42287582 0.42256205 0.46099186]\n"
     ]
    }
   ],
   "source": [
    "print ( np.sum((x := np.random.rand(10,3)) * np.eye(x.shape[1])[np.argmin(np.abs(x-0.5), axis=1)], axis = 1) )\n",
    "\n",
    "\"\"\"\n",
    "checker:\n",
    "\n",
    "x = np.random.rand(10,3)\n",
    "print(x)\n",
    "print ( np.sum((x) * np.eye(x.shape[1])[np.argmin(np.abs(x-0.5), axis=1)], axis = 1) )\n",
    "\"\"\""
   ]
  },
  {
   "cell_type": "markdown",
   "metadata": {},
   "source": [
    "Номер 6"
   ]
  },
  {
   "cell_type": "code",
   "execution_count": 172,
   "metadata": {},
   "outputs": [
    {
     "name": "stdout",
     "output_type": "stream",
     "text": [
      "[4.6175976  3.13840572 5.11634294 3.27996456 4.44020239 2.25826259]\n"
     ]
    }
   ],
   "source": [
    "\"\"\"x = np.random.rand(6,6)\n",
    "print(x)\n",
    "mask = np.transpose(np.eye(x.shape[0])[np.argmax(x, axis=0)])\n",
    "colmax = np.sum(x*mask, axis = 0)\n",
    "np.sum(x, axis = 1)/colmax\n",
    "\"\"\"\n",
    "print(np.sum((x := np.random.rand(6,6)), axis = 1)/np.sum(x*np.transpose(np.eye(x.shape[0])[np.argmax(x, axis=0)]), axis = 0))"
   ]
  },
  {
   "cell_type": "markdown",
   "metadata": {},
   "source": [
    "Номер 7"
   ]
  },
  {
   "cell_type": "code",
   "execution_count": 173,
   "metadata": {},
   "outputs": [
    {
     "name": "stdout",
     "output_type": "stream",
     "text": [
      "5\n"
     ]
    }
   ],
   "source": [
    "x = np.array([6, 2, 0, 3, 0, 0, 5, 7, 0])\n",
    "print ( x[ np.where(x[:-1]==0)[0] + 1 ].max() )"
   ]
  },
  {
   "cell_type": "markdown",
   "metadata": {},
   "source": [
    "Номер 8"
   ]
  },
  {
   "cell_type": "code",
   "execution_count": 174,
   "metadata": {},
   "outputs": [
    {
     "name": "stdout",
     "output_type": "stream",
     "text": [
      "[2. 2. 2. 2. 1. 4. 1. 1. 2. 1.]\n"
     ]
    }
   ],
   "source": [
    "x = np.ones(10) \n",
    "i = np.array([0, 1, 2, 3, 5, 5, 5, 8])\n",
    "\n",
    "print ( x + np.bincount(i, minlength=len(x)) )"
   ]
  }
 ],
 "metadata": {
  "kernelspec": {
   "display_name": "Python 3",
   "language": "python",
   "name": "python3"
  },
  "language_info": {
   "codemirror_mode": {
    "name": "ipython",
    "version": 3
   },
   "file_extension": ".py",
   "mimetype": "text/x-python",
   "name": "python",
   "nbconvert_exporter": "python",
   "pygments_lexer": "ipython3",
   "version": "3.12.4"
  }
 },
 "nbformat": 4,
 "nbformat_minor": 2
}
